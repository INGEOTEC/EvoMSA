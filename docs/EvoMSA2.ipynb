{
  "nbformat": 4,
  "nbformat_minor": 0,
  "metadata": {
    "colab": {
      "provenance": [],
      "collapsed_sections": [
        "4t9fwveuoF2q",
        "u9p27h3-oqtJ",
        "Am7lvtpWoxBM"
      ]
    },
    "kernelspec": {
      "name": "python3",
      "display_name": "Python 3"
    },
    "language_info": {
      "name": "python"
    }
  },
  "cells": [
    {
      "cell_type": "markdown",
      "source": [
        "<p><img alt=\"Colaboratory logo\" height=\"50px\" src=\"https://github.com/INGEOTEC/text_models/raw/master/docs/source/ingeotec.png\" align=\"left\" hspace=\"10px\" vspace=\"0px\" /></p>\n",
        "\n",
        "<h1>EvoMSA 2.0</h1>\n",
        "<h2>Quickstart Guide</h2>\n",
        "\n",
        "### http://ingeotec.mx\n",
        "\n",
        "### http://github.com/ingeotec"
      ],
      "metadata": {
        "id": "vSriLxTzn2ER"
      }
    },
    {
      "cell_type": "markdown",
      "source": [
        "# Installing EvoMSA\n",
        "\n",
        "The first step is to install the library."
      ],
      "metadata": {
        "id": "VApBW9yFkrZF"
      }
    },
    {
      "cell_type": "code",
      "source": [
        "try:\n",
        "    import EvoMSA\n",
        "except ImportError:\n",
        "    !pip install evomsa"
      ],
      "metadata": {
        "id": "2yqiRhLRoQek"
      },
      "execution_count": 1,
      "outputs": []
    },
    {
      "cell_type": "markdown",
      "source": [
        "# Libraries and Text Classification Problem\n",
        "\n",
        "Once EvoMSA is installed, one must load a few libraries. The first line loads EvoMSA core classes. Line 2 contains the pathname where the text classification problem is. Finally, line 3 is a method to read a file containing a JSON per line."
      ],
      "metadata": {
        "id": "4t9fwveuoF2q"
      }
    },
    {
      "cell_type": "code",
      "execution_count": 2,
      "metadata": {
        "id": "C7WagxP0nyq4"
      },
      "outputs": [],
      "source": [
        "from EvoMSA import BoW, DenseBoW, StackGeneralization\n",
        "from EvoMSA.tests.test_base import TWEETS\n",
        "from microtc.utils import tweet_iterator"
      ]
    },
    {
      "cell_type": "markdown",
      "source": [
        "The text classification problem can be read using the following instruction. It is stored in a variable `D` which is a list of dictionaries. The second line shows the content of the first element in `D`."
      ],
      "metadata": {
        "id": "_0Er0Chck82Y"
      }
    },
    {
      "cell_type": "code",
      "source": [
        "D = list(tweet_iterator(TWEETS))\n",
        "D[0]"
      ],
      "metadata": {
        "colab": {
          "base_uri": "https://localhost:8080/"
        },
        "id": "Cw39-7mhlCqq",
        "outputId": "9add7cfa-fea7-43d9-ef6f-eea0a1f54983"
      },
      "execution_count": 3,
      "outputs": [
        {
          "output_type": "execute_result",
          "data": {
            "text/plain": [
              "{'text': '| R #OnPoint | #Summer16 ...... 🚣🏽🌴🌴🌴 @ Ocho Rios, Jamacia https://t.co/8xkfjhk52L',\n",
              " 'klass': 'NONE',\n",
              " 'q_voc_ratio': 0.4585635359116022}"
            ]
          },
          "metadata": {},
          "execution_count": 3
        }
      ]
    },
    {
      "cell_type": "markdown",
      "source": [
        "The field text is self-described, and the field klass contains the label associated with that text."
      ],
      "metadata": {
        "id": "viEJgzPBlOvf"
      }
    },
    {
      "cell_type": "markdown",
      "source": [
        "# BoW Classifier\n",
        "\n",
        "The first text classifier presented is the pre-trained BoW. The following line initializes the classifier, the first part initializes the class, and the second corresponds to the estimate of the parameters of the linear SVM."
      ],
      "metadata": {
        "id": "EkaBJY8ylWkg"
      }
    },
    {
      "cell_type": "code",
      "source": [
        "bow = BoW(lang='es').fit(D)"
      ],
      "metadata": {
        "id": "y2-ZnWLTlb6C"
      },
      "execution_count": 4,
      "outputs": []
    },
    {
      "cell_type": "markdown",
      "source": [
        "After training the text classifier, it can make predictions. For instance, the first line predicts the training set, while the second line predicts the phrase _good morning_ in Spanish, _buenos días_."
      ],
      "metadata": {
        "id": "QuNFi22DlgUE"
      }
    },
    {
      "cell_type": "code",
      "source": [
        "hy = bow.predict(D)\n",
        "bow.predict(['buenos días'])"
      ],
      "metadata": {
        "colab": {
          "base_uri": "https://localhost:8080/"
        },
        "id": "8sz3PAP5ld5v",
        "outputId": "b2e9d89e-d522-45c6-d159-7486fb1b2117"
      },
      "execution_count": 5,
      "outputs": [
        {
          "output_type": "execute_result",
          "data": {
            "text/plain": [
              "array(['P'], dtype='<U4')"
            ]
          },
          "metadata": {},
          "execution_count": 5
        }
      ]
    },
    {
      "cell_type": "markdown",
      "source": [
        "# DenseBoW Classifier\n",
        "\n",
        "Next, the second method is trained using the dataset following the same steps. The subsequent instruction shows the code to train the text classifier."
      ],
      "metadata": {
        "id": "c252mwnolmML"
      }
    },
    {
      "cell_type": "code",
      "source": [
        "dense = DenseBoW(lang='es').fit(D)"
      ],
      "metadata": {
        "id": "VBiar6Tblk_E"
      },
      "execution_count": 6,
      "outputs": []
    },
    {
      "cell_type": "markdown",
      "source": [
        "The code to predict is equivalent; therefore, the prediction for the phrase _good morning_ is only shown."
      ],
      "metadata": {
        "id": "6ihKZ5fNltMS"
      }
    },
    {
      "cell_type": "code",
      "source": [
        "dense.predict(['buenos días'])"
      ],
      "metadata": {
        "colab": {
          "base_uri": "https://localhost:8080/"
        },
        "id": "KNVc1-fhlsVI",
        "outputId": "40bad65e-193e-4a07-8fc2-38b646e9e17d"
      },
      "execution_count": 7,
      "outputs": [
        {
          "output_type": "execute_result",
          "data": {
            "text/plain": [
              "array(['P'], dtype='<U4')"
            ]
          },
          "metadata": {},
          "execution_count": 7
        }
      ]
    },
    {
      "cell_type": "markdown",
      "source": [
        "# Stack Generalization\n",
        "\n",
        "The final text classifier uses a stack generalization approach. The first step is to create the base text classifiers corresponding to the two previous text classifiers, BoW, and DenseBoW."
      ],
      "metadata": {
        "id": "jTEVF0HBlzX1"
      }
    },
    {
      "cell_type": "code",
      "source": [
        "bow = BoW(lang='es')\n",
        "dense = DenseBoW(lang='es')"
      ],
      "metadata": {
        "id": "RzWjFdP-lyvR"
      },
      "execution_count": 8,
      "outputs": []
    },
    {
      "cell_type": "markdown",
      "source": [
        "It is worth noting that the base classifiers were not trained; as can be seen, the method fit was not called. These base classifiers will be trained inside the stack generalization algorithm.\n",
        "\n",
        "The second step is to initialize and train the stack generalization class, shown in the following instruction."
      ],
      "metadata": {
        "id": "ok7zkhHXl7h6"
      }
    },
    {
      "cell_type": "code",
      "source": [
        "stack = StackGeneralization([bow, dense]).fit(D)"
      ],
      "metadata": {
        "id": "u4tPCBvil-1i"
      },
      "execution_count": 9,
      "outputs": []
    },
    {
      "cell_type": "markdown",
      "source": [
        "One does not need to specify the language to stack generalization because the base text classifiers give the language.\n",
        "\n",
        "The code to predict is kept constant in all the classes; therefore, the following code predicts the class for the phrase _good morning_."
      ],
      "metadata": {
        "id": "vWoJOsETmBsN"
      }
    },
    {
      "cell_type": "code",
      "source": [
        "stack.predict(['buenos días'])"
      ],
      "metadata": {
        "colab": {
          "base_uri": "https://localhost:8080/"
        },
        "id": "NSenFKrnl6pv",
        "outputId": "2ecb43b1-5a06-423f-df26-4d1a4d237fdd"
      },
      "execution_count": 10,
      "outputs": [
        {
          "output_type": "execute_result",
          "data": {
            "text/plain": [
              "array(['P'], dtype='<U4')"
            ]
          },
          "metadata": {},
          "execution_count": 10
        }
      ]
    }
  ]
}