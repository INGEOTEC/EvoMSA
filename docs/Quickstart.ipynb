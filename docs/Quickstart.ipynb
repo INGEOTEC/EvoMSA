{
  "nbformat": 4,
  "nbformat_minor": 0,
  "metadata": {
    "colab": {
      "name": "Quickstart.ipynb",
      "provenance": [],
      "collapsed_sections": []
    },
    "kernelspec": {
      "name": "python3",
      "display_name": "Python 3"
    }
  },
  "cells": [
    {
      "cell_type": "markdown",
      "metadata": {
        "id": "pNffx9rfKLVk",
        "colab_type": "text"
      },
      "source": [
        "# EvoMSA's Quickstart Guide\n",
        "## colab.research.google.com"
      ]
    },
    {
      "cell_type": "code",
      "metadata": {
        "id": "wMBmOOgrOQ6d",
        "colab_type": "code",
        "colab": {
          "base_uri": "https://localhost:8080/",
          "height": 231
        },
        "outputId": "2f03312c-ccf9-4d99-ceb0-4b0aef541939"
      },
      "source": [
        "!pip install cython\n",
        "!pip install sparsearray\n",
        "!pip install evodag\n",
        "!pip install microtc>=2.2.0\n",
        "!pip install evomsa"
      ],
      "execution_count": 6,
      "outputs": [
        {
          "output_type": "stream",
          "text": [
            "Requirement already satisfied: cython in /usr/local/lib/python3.6/dist-packages (0.29.15)\n",
            "Requirement already satisfied: sparsearray in /usr/local/lib/python3.6/dist-packages (0.8.16)\n",
            "Requirement already satisfied: evodag in /usr/local/lib/python3.6/dist-packages (0.16.2)\n",
            "Requirement already satisfied: numpy in /usr/local/lib/python3.6/dist-packages (from evodag) (1.17.5)\n",
            "Requirement already satisfied: SparseArray in /usr/local/lib/python3.6/dist-packages (from evodag) (0.8.16)\n",
            "Requirement already satisfied: evomsa in /usr/local/lib/python3.6/dist-packages (1.2.1)\n",
            "Requirement already satisfied: ConceptModelling in /usr/local/lib/python3.6/dist-packages (from evomsa) (0.1.1)\n",
            "Requirement already satisfied: EvoDAG in /usr/local/lib/python3.6/dist-packages (from evomsa) (0.16.2)\n",
            "Requirement already satisfied: B4MSA in /usr/local/lib/python3.6/dist-packages (from evomsa) (2.1)\n",
            "Requirement already satisfied: SparseArray in /usr/local/lib/python3.6/dist-packages (from EvoDAG->evomsa) (0.8.16)\n",
            "Requirement already satisfied: numpy in /usr/local/lib/python3.6/dist-packages (from EvoDAG->evomsa) (1.17.5)\n",
            "Requirement already satisfied: microtc in /usr/local/lib/python3.6/dist-packages (from B4MSA->evomsa) (2.2.0)\n"
          ],
          "name": "stdout"
        }
      ]
    },
    {
      "cell_type": "code",
      "metadata": {
        "id": "vp_Kzzz7Ox4D",
        "colab_type": "code",
        "colab": {}
      },
      "source": [
        "import os\n",
        "from EvoMSA import base"
      ],
      "execution_count": 0,
      "outputs": []
    },
    {
      "cell_type": "code",
      "metadata": {
        "id": "dCAHrc94O_0K",
        "colab_type": "code",
        "colab": {}
      },
      "source": [
        "tweets = os.path.join(os.path.dirname(base.__file__), 'tests', 'tweets.json')"
      ],
      "execution_count": 0,
      "outputs": []
    },
    {
      "cell_type": "code",
      "metadata": {
        "id": "YLuqAl05PFNi",
        "colab_type": "code",
        "colab": {
          "base_uri": "https://localhost:8080/",
          "height": 35
        },
        "outputId": "9a288f06-df0a-4600-c413-c68de2e74b37"
      },
      "source": [
        "tweets"
      ],
      "execution_count": 13,
      "outputs": [
        {
          "output_type": "execute_result",
          "data": {
            "text/plain": [
              "'/usr/local/lib/python3.6/dist-packages/EvoMSA/tests/tweets.json'"
            ]
          },
          "metadata": {
            "tags": []
          },
          "execution_count": 13
        }
      ]
    },
    {
      "cell_type": "code",
      "metadata": {
        "id": "B8f4jmZjPMjR",
        "colab_type": "code",
        "colab": {}
      },
      "source": [
        "from microtc.utils import tweet_iterator\n",
        "D = list(tweet_iterator(tweets))"
      ],
      "execution_count": 0,
      "outputs": []
    },
    {
      "cell_type": "code",
      "metadata": {
        "id": "-7QO9CofPYXS",
        "colab_type": "code",
        "colab": {}
      },
      "source": [
        "X = [x['text'] for x in D]\n",
        "y = [x['klass'] for x in D]"
      ],
      "execution_count": 0,
      "outputs": []
    },
    {
      "cell_type": "code",
      "metadata": {
        "id": "lxpbN6d6PZ6L",
        "colab_type": "code",
        "colab": {
          "base_uri": "https://localhost:8080/",
          "height": 305
        },
        "outputId": "8fe21301-3469-422e-8516-cd3c5ea2ce5c"
      },
      "source": [
        "evo = base.EvoMSA(Emo=True, stacked_method=\"sklearn.naive_bayes.GaussianNB\", lang=\"es\").fit(X, y)"
      ],
      "execution_count": 19,
      "outputs": [
        {
          "output_type": "stream",
          "text": [
            "100%|██████████| 2/2 [00:03<00:00,  2.05s/it]\n",
            "/usr/local/lib/python3.6/dist-packages/sklearn/svm/_base.py:947: ConvergenceWarning: Liblinear failed to converge, increase the number of iterations.\n",
            "  \"the number of iterations.\", ConvergenceWarning)\n",
            "100%|██████████| 5/5 [00:00<00:00, 11.17it/s]\n",
            "  0%|          | 0/5 [00:00<?, ?it/s]/usr/local/lib/python3.6/dist-packages/sklearn/svm/_base.py:947: ConvergenceWarning: Liblinear failed to converge, increase the number of iterations.\n",
            "  \"the number of iterations.\", ConvergenceWarning)\n",
            " 20%|██        | 1/5 [00:00<00:01,  2.13it/s]/usr/local/lib/python3.6/dist-packages/sklearn/svm/_base.py:947: ConvergenceWarning: Liblinear failed to converge, increase the number of iterations.\n",
            "  \"the number of iterations.\", ConvergenceWarning)\n",
            " 40%|████      | 2/5 [00:00<00:01,  2.13it/s]/usr/local/lib/python3.6/dist-packages/sklearn/svm/_base.py:947: ConvergenceWarning: Liblinear failed to converge, increase the number of iterations.\n",
            "  \"the number of iterations.\", ConvergenceWarning)\n",
            " 60%|██████    | 3/5 [00:01<00:00,  2.15it/s]/usr/local/lib/python3.6/dist-packages/sklearn/svm/_base.py:947: ConvergenceWarning: Liblinear failed to converge, increase the number of iterations.\n",
            "  \"the number of iterations.\", ConvergenceWarning)\n",
            " 80%|████████  | 4/5 [00:01<00:00,  2.16it/s]/usr/local/lib/python3.6/dist-packages/sklearn/svm/_base.py:947: ConvergenceWarning: Liblinear failed to converge, increase the number of iterations.\n",
            "  \"the number of iterations.\", ConvergenceWarning)\n",
            "100%|██████████| 5/5 [00:02<00:00,  2.18it/s]\n"
          ],
          "name": "stderr"
        }
      ]
    },
    {
      "cell_type": "code",
      "metadata": {
        "id": "lo1oRiSqQNXJ",
        "colab_type": "code",
        "colab": {
          "base_uri": "https://localhost:8080/",
          "height": 71
        },
        "outputId": "fa1a9b05-beeb-4533-b96a-aac44a6fc5eb"
      },
      "source": [
        "evo.predict([\"estoy de mal humor\"])"
      ],
      "execution_count": 21,
      "outputs": [
        {
          "output_type": "stream",
          "text": [
            "100%|██████████| 2/2 [00:00<00:00, 368.13it/s]\n",
            "100%|██████████| 2/2 [00:00<00:00, 527.75it/s]\n"
          ],
          "name": "stderr"
        },
        {
          "output_type": "execute_result",
          "data": {
            "text/plain": [
              "array(['N'], dtype='<U4')"
            ]
          },
          "metadata": {
            "tags": []
          },
          "execution_count": 21
        }
      ]
    },
    {
      "cell_type": "code",
      "metadata": {
        "id": "1gGLG0TfQc58",
        "colab_type": "code",
        "colab": {}
      },
      "source": [
        "from sklearn import model_selection"
      ],
      "execution_count": 0,
      "outputs": []
    },
    {
      "cell_type": "code",
      "metadata": {
        "id": "5EjrabdbQovd",
        "colab_type": "code",
        "colab": {}
      },
      "source": [
        "train, test = model_selection.train_test_split(D, test_size=0.2)"
      ],
      "execution_count": 0,
      "outputs": []
    },
    {
      "cell_type": "code",
      "metadata": {
        "id": "AeZ7339AQvl3",
        "colab_type": "code",
        "colab": {
          "base_uri": "https://localhost:8080/",
          "height": 35
        },
        "outputId": "b7c0a497-02e0-4417-ee9b-01ec38820dc5"
      },
      "source": [
        "len(train), len(test)"
      ],
      "execution_count": 25,
      "outputs": [
        {
          "output_type": "execute_result",
          "data": {
            "text/plain": [
              "(800, 200)"
            ]
          },
          "metadata": {
            "tags": []
          },
          "execution_count": 25
        }
      ]
    },
    {
      "cell_type": "code",
      "metadata": {
        "id": "2Nqt9Cb_Q5_y",
        "colab_type": "code",
        "colab": {
          "base_uri": "https://localhost:8080/",
          "height": 305
        },
        "outputId": "fb93d2f7-519a-4069-a2a3-8a841373bc7c"
      },
      "source": [
        "evo = base.EvoMSA(Emo=True, stacked_method=\"sklearn.naive_bayes.GaussianNB\", lang=\"es\").fit(train, [x['klass'] for x in train])"
      ],
      "execution_count": 26,
      "outputs": [
        {
          "output_type": "stream",
          "text": [
            "100%|██████████| 2/2 [00:02<00:00,  1.60s/it]\n",
            "/usr/local/lib/python3.6/dist-packages/sklearn/svm/_base.py:947: ConvergenceWarning: Liblinear failed to converge, increase the number of iterations.\n",
            "  \"the number of iterations.\", ConvergenceWarning)\n",
            "100%|██████████| 5/5 [00:00<00:00, 14.84it/s]\n",
            "  0%|          | 0/5 [00:00<?, ?it/s]/usr/local/lib/python3.6/dist-packages/sklearn/svm/_base.py:947: ConvergenceWarning: Liblinear failed to converge, increase the number of iterations.\n",
            "  \"the number of iterations.\", ConvergenceWarning)\n",
            " 20%|██        | 1/5 [00:00<00:01,  2.80it/s]/usr/local/lib/python3.6/dist-packages/sklearn/svm/_base.py:947: ConvergenceWarning: Liblinear failed to converge, increase the number of iterations.\n",
            "  \"the number of iterations.\", ConvergenceWarning)\n",
            " 40%|████      | 2/5 [00:00<00:01,  2.81it/s]/usr/local/lib/python3.6/dist-packages/sklearn/svm/_base.py:947: ConvergenceWarning: Liblinear failed to converge, increase the number of iterations.\n",
            "  \"the number of iterations.\", ConvergenceWarning)\n",
            " 60%|██████    | 3/5 [00:01<00:00,  2.81it/s]/usr/local/lib/python3.6/dist-packages/sklearn/svm/_base.py:947: ConvergenceWarning: Liblinear failed to converge, increase the number of iterations.\n",
            "  \"the number of iterations.\", ConvergenceWarning)\n",
            " 80%|████████  | 4/5 [00:01<00:00,  2.84it/s]/usr/local/lib/python3.6/dist-packages/sklearn/svm/_base.py:947: ConvergenceWarning: Liblinear failed to converge, increase the number of iterations.\n",
            "  \"the number of iterations.\", ConvergenceWarning)\n",
            "100%|██████████| 5/5 [00:01<00:00,  2.84it/s]\n"
          ],
          "name": "stderr"
        }
      ]
    },
    {
      "cell_type": "code",
      "metadata": {
        "id": "A-xR23G7RHB1",
        "colab_type": "code",
        "colab": {
          "base_uri": "https://localhost:8080/",
          "height": 53
        },
        "outputId": "be2e0f61-4657-4f98-9afe-40cc6dd340ef"
      },
      "source": [
        "hy = evo.predict(test)"
      ],
      "execution_count": 27,
      "outputs": [
        {
          "output_type": "stream",
          "text": [
            "100%|██████████| 2/2 [00:00<00:00,  3.63it/s]\n",
            "100%|██████████| 2/2 [00:00<00:00, 542.11it/s]\n"
          ],
          "name": "stderr"
        }
      ]
    },
    {
      "cell_type": "code",
      "metadata": {
        "id": "MYK1wX7uRL8B",
        "colab_type": "code",
        "colab": {
          "base_uri": "https://localhost:8080/",
          "height": 320
        },
        "outputId": "cdc35314-6067-46e0-ebd7-994bb106557d"
      },
      "source": [
        "hy"
      ],
      "execution_count": 28,
      "outputs": [
        {
          "output_type": "execute_result",
          "data": {
            "text/plain": [
              "array(['NONE', 'N', 'P', 'P', 'P', 'NONE', 'P', 'N', 'P', 'NEU', 'NONE',\n",
              "       'N', 'N', 'P', 'P', 'N', 'N', 'N', 'N', 'P', 'N', 'P', 'P', 'N',\n",
              "       'P', 'NEU', 'N', 'P', 'NEU', 'N', 'P', 'NONE', 'NONE', 'P', 'N',\n",
              "       'N', 'N', 'P', 'N', 'NONE', 'N', 'N', 'P', 'NONE', 'N', 'NONE',\n",
              "       'P', 'NONE', 'NONE', 'P', 'P', 'NONE', 'NONE', 'N', 'NONE', 'NONE',\n",
              "       'P', 'P', 'N', 'P', 'P', 'P', 'P', 'P', 'N', 'P', 'P', 'N', 'N',\n",
              "       'P', 'P', 'N', 'P', 'P', 'P', 'N', 'N', 'N', 'P', 'P', 'P', 'P',\n",
              "       'N', 'P', 'N', 'N', 'N', 'P', 'P', 'N', 'P', 'NONE', 'N', 'NONE',\n",
              "       'N', 'P', 'N', 'P', 'P', 'P', 'NONE', 'P', 'P', 'N', 'P', 'P', 'P',\n",
              "       'P', 'P', 'P', 'N', 'P', 'NONE', 'P', 'P', 'P', 'P', 'P', 'P', 'P',\n",
              "       'N', 'P', 'N', 'N', 'P', 'N', 'P', 'N', 'N', 'P', 'N', 'P', 'P',\n",
              "       'N', 'N', 'P', 'N', 'P', 'P', 'N', 'P', 'NONE', 'N', 'NONE', 'P',\n",
              "       'N', 'P', 'P', 'NONE', 'N', 'P', 'P', 'N', 'NONE', 'P', 'N', 'P',\n",
              "       'P', 'P', 'N', 'NONE', 'P', 'N', 'P', 'NONE', 'N', 'NONE', 'NONE',\n",
              "       'N', 'P', 'NONE', 'P', 'NONE', 'P', 'N', 'NEU', 'N', 'N', 'N', 'P',\n",
              "       'P', 'P', 'NONE', 'P', 'N', 'N', 'P', 'P', 'P', 'N', 'N', 'P', 'N',\n",
              "       'P', 'N', 'N', 'N', 'NONE', 'N', 'N'], dtype='<U4')"
            ]
          },
          "metadata": {
            "tags": []
          },
          "execution_count": 28
        }
      ]
    },
    {
      "cell_type": "code",
      "metadata": {
        "id": "sqa0BdwhRNdB",
        "colab_type": "code",
        "colab": {}
      },
      "source": [
        "from sklearn import metrics"
      ],
      "execution_count": 0,
      "outputs": []
    },
    {
      "cell_type": "code",
      "metadata": {
        "id": "vUXwl-yLRS9n",
        "colab_type": "code",
        "colab": {
          "base_uri": "https://localhost:8080/",
          "height": 35
        },
        "outputId": "77d5d214-5069-4991-dc15-fe68996fb22c"
      },
      "source": [
        "metrics.f1_score([x['klass'] for x in test], hy, average=None)"
      ],
      "execution_count": 30,
      "outputs": [
        {
          "output_type": "execute_result",
          "data": {
            "text/plain": [
              "array([0.672     , 0.        , 0.46875   , 0.75247525])"
            ]
          },
          "metadata": {
            "tags": []
          },
          "execution_count": 30
        }
      ]
    },
    {
      "cell_type": "code",
      "metadata": {
        "id": "Gv3QOa5NRePu",
        "colab_type": "code",
        "colab": {}
      },
      "source": [
        "evo = base.EvoMSA(Emo=True, HA=True, stacked_method=\"sklearn.naive_bayes.GaussianNB\", lang=\"es\").fit(train, [x['klass'] for x in train])"
      ],
      "execution_count": 0,
      "outputs": []
    },
    {
      "cell_type": "code",
      "metadata": {
        "id": "sadIs4-URp32",
        "colab_type": "code",
        "colab": {}
      },
      "source": [
        "hy = evo.predict(test)"
      ],
      "execution_count": 0,
      "outputs": []
    },
    {
      "cell_type": "code",
      "metadata": {
        "id": "1Ck_nbniRzSG",
        "colab_type": "code",
        "colab": {
          "base_uri": "https://localhost:8080/",
          "height": 35
        },
        "outputId": "38548280-3435-4433-db8f-8b1c663fb0d1"
      },
      "source": [
        "metrics.f1_score([x['klass'] for x in test], hy, average=None)\n"
      ],
      "execution_count": 34,
      "outputs": [
        {
          "output_type": "execute_result",
          "data": {
            "text/plain": [
              "array([0.63934426, 0.        , 0.45070423, 0.7244898 ])"
            ]
          },
          "metadata": {
            "tags": []
          },
          "execution_count": 34
        }
      ]
    },
    {
      "cell_type": "code",
      "metadata": {
        "id": "Kww7cbkOR4vO",
        "colab_type": "code",
        "colab": {}
      },
      "source": [
        "evo = base.EvoMSA(Emo=True, TH=True, stacked_method=\"sklearn.naive_bayes.GaussianNB\", lang=\"es\").fit(train, [x['klass'] for x in train])"
      ],
      "execution_count": 0,
      "outputs": []
    },
    {
      "cell_type": "code",
      "metadata": {
        "id": "tvAGHiygSDTn",
        "colab_type": "code",
        "colab": {}
      },
      "source": [
        "import nltk"
      ],
      "execution_count": 0,
      "outputs": []
    },
    {
      "cell_type": "code",
      "metadata": {
        "id": "zRitJOXWSIC2",
        "colab_type": "code",
        "colab": {}
      },
      "source": [
        "nltk.download(\"stopwords\")"
      ],
      "execution_count": 0,
      "outputs": []
    },
    {
      "cell_type": "code",
      "metadata": {
        "id": "Q5_uksvLSK5I",
        "colab_type": "code",
        "colab": {}
      },
      "source": [
        "hy = evo.predict(test)"
      ],
      "execution_count": 0,
      "outputs": []
    },
    {
      "cell_type": "code",
      "metadata": {
        "id": "1V2F1bJ-SSTX",
        "colab_type": "code",
        "colab": {
          "base_uri": "https://localhost:8080/",
          "height": 35
        },
        "outputId": "a097fc83-2552-4165-f1d6-1aa36bca690d"
      },
      "source": [
        "metrics.f1_score([x['klass'] for x in test], hy, average=None)"
      ],
      "execution_count": 40,
      "outputs": [
        {
          "output_type": "execute_result",
          "data": {
            "text/plain": [
              "array([0.67272727, 0.        , 0.43478261, 0.72631579])"
            ]
          },
          "metadata": {
            "tags": []
          },
          "execution_count": 40
        }
      ]
    },
    {
      "cell_type": "code",
      "metadata": {
        "id": "W1Fw1ZWXSVlX",
        "colab_type": "code",
        "colab": {}
      },
      "source": [
        "from EvoMSA.utils import download\n",
        "from microtc.utils import load_model"
      ],
      "execution_count": 0,
      "outputs": []
    },
    {
      "cell_type": "code",
      "metadata": {
        "id": "VSXPJ7FZSoXW",
        "colab_type": "code",
        "colab": {}
      },
      "source": [
        "emo = load_model(download(\"emo_En.tm\"))"
      ],
      "execution_count": 0,
      "outputs": []
    },
    {
      "cell_type": "code",
      "metadata": {
        "id": "LXftLkDkSybH",
        "colab_type": "code",
        "colab": {
          "base_uri": "https://localhost:8080/",
          "height": 35
        },
        "outputId": "35268a36-05a0-4f8f-8ecf-21f99bca4492"
      },
      "source": [
        "emo._labels[emo.transform([\"it is a nice day\"])[0].argmax()]"
      ],
      "execution_count": 47,
      "outputs": [
        {
          "output_type": "execute_result",
          "data": {
            "text/plain": [
              "'😌'"
            ]
          },
          "metadata": {
            "tags": []
          },
          "execution_count": 47
        }
      ]
    },
    {
      "cell_type": "code",
      "metadata": {
        "id": "VY-oRn1ESziS",
        "colab_type": "code",
        "colab": {}
      },
      "source": [
        "emo._labels"
      ],
      "execution_count": 0,
      "outputs": []
    },
    {
      "cell_type": "code",
      "metadata": {
        "id": "_ojwHA_VS_Af",
        "colab_type": "code",
        "colab": {}
      },
      "source": [
        "sem = load_model(download(\"semeval2017_En.evomsa\"))"
      ],
      "execution_count": 0,
      "outputs": []
    },
    {
      "cell_type": "code",
      "metadata": {
        "id": "K66RUuAEThtZ",
        "colab_type": "code",
        "colab": {
          "base_uri": "https://localhost:8080/",
          "height": 35
        },
        "outputId": "9eb797eb-9c19-4b41-a4b9-5084f5349d01"
      },
      "source": [
        "sem"
      ],
      "execution_count": 49,
      "outputs": [
        {
          "output_type": "execute_result",
          "data": {
            "text/plain": [
              "<EvoMSA.base.EvoMSA at 0x7faf9d0e4898>"
            ]
          },
          "metadata": {
            "tags": []
          },
          "execution_count": 49
        }
      ]
    },
    {
      "cell_type": "code",
      "metadata": {
        "id": "5-Qk09HsTjgu",
        "colab_type": "code",
        "colab": {
          "base_uri": "https://localhost:8080/",
          "height": 71
        },
        "outputId": "183df253-5312-4273-8261-1dd7f6378bd4"
      },
      "source": [
        "sem.predict([\"it is a nice day\", \"EvoMSA is working\"])"
      ],
      "execution_count": 50,
      "outputs": [
        {
          "output_type": "stream",
          "text": [
            "100%|██████████| 2/2 [00:00<00:00, 167.82it/s]\n",
            "100%|██████████| 2/2 [00:00<00:00, 767.98it/s]\n"
          ],
          "name": "stderr"
        },
        {
          "output_type": "execute_result",
          "data": {
            "text/plain": [
              "array(['positive', 'neutral'], dtype='<U8')"
            ]
          },
          "metadata": {
            "tags": []
          },
          "execution_count": 50
        }
      ]
    },
    {
      "cell_type": "code",
      "metadata": {
        "id": "qr0hScf0Tqig",
        "colab_type": "code",
        "colab": {}
      },
      "source": [
        ""
      ],
      "execution_count": 0,
      "outputs": []
    }
  ]
}