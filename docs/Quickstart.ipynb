{
  "nbformat": 4,
  "nbformat_minor": 0,
  "metadata": {
    "colab": {
      "name": "Quickstart.ipynb",
      "provenance": [],
      "collapsed_sections": []
    },
    "kernelspec": {
      "name": "python3",
      "display_name": "Python 3"
    }
  },
  "cells": [
    {
      "cell_type": "markdown",
      "metadata": {
        "id": "pNffx9rfKLVk",
        "colab_type": "text"
      },
      "source": [
        "# EvoMSA's Quickstart Guide\n",
        "## colab.research.google.com\n",
        "### Mario Graff\n",
        "#### ingeotec.mx"
      ]
    },
    {
      "cell_type": "markdown",
      "metadata": {
        "id": "4hcGcrjTRj3d",
        "colab_type": "text"
      },
      "source": [
        "## Steps to install EvoMSA"
      ]
    },
    {
      "cell_type": "code",
      "metadata": {
        "id": "3aPP0CqWZ8VK",
        "colab_type": "code",
        "colab": {
          "base_uri": "https://localhost:8080/",
          "height": 213
        },
        "outputId": "3c83cf8a-5b4d-4df5-dfee-9759515cfd32"
      },
      "source": [
        "!pip install sparsearray\n",
        "!pip install evodag\n",
        "!pip install microtc>=2.2.0\n",
        "!pip install evomsa"
      ],
      "execution_count": 23,
      "outputs": [
        {
          "output_type": "stream",
          "text": [
            "Requirement already satisfied: sparsearray in /usr/local/lib/python3.6/dist-packages (0.8.16)\n",
            "Requirement already satisfied: evodag in /usr/local/lib/python3.6/dist-packages (0.16.2)\n",
            "Requirement already satisfied: numpy in /usr/local/lib/python3.6/dist-packages (from evodag) (1.17.5)\n",
            "Requirement already satisfied: SparseArray in /usr/local/lib/python3.6/dist-packages (from evodag) (0.8.16)\n",
            "Requirement already satisfied: evomsa in /usr/local/lib/python3.6/dist-packages (1.2.1)\n",
            "Requirement already satisfied: EvoDAG in /usr/local/lib/python3.6/dist-packages (from evomsa) (0.16.2)\n",
            "Requirement already satisfied: B4MSA in /usr/local/lib/python3.6/dist-packages (from evomsa) (2.1)\n",
            "Requirement already satisfied: ConceptModelling in /usr/local/lib/python3.6/dist-packages (from evomsa) (0.1.1)\n",
            "Requirement already satisfied: SparseArray in /usr/local/lib/python3.6/dist-packages (from EvoDAG->evomsa) (0.8.16)\n",
            "Requirement already satisfied: numpy in /usr/local/lib/python3.6/dist-packages (from EvoDAG->evomsa) (1.17.5)\n",
            "Requirement already satisfied: microtc in /usr/local/lib/python3.6/dist-packages (from B4MSA->evomsa) (2.2.0)\n"
          ],
          "name": "stdout"
        }
      ]
    },
    {
      "cell_type": "markdown",
      "metadata": {
        "id": "sJ01HWP0Ru-8",
        "colab_type": "text"
      },
      "source": [
        "## First model"
      ]
    },
    {
      "cell_type": "markdown",
      "metadata": {
        "id": "eyanTM0BSPJy",
        "colab_type": "text"
      },
      "source": [
        "### Reading a dataset"
      ]
    },
    {
      "cell_type": "code",
      "metadata": {
        "id": "DEe8eWleaZZu",
        "colab_type": "code",
        "colab": {}
      },
      "source": [
        "import os\n",
        "from EvoMSA import base\n",
        "tweets = os.path.join(os.path.dirname(base.__file__), 'tests', 'tweets.json')"
      ],
      "execution_count": 0,
      "outputs": []
    },
    {
      "cell_type": "code",
      "metadata": {
        "id": "pOIfJv0waih8",
        "colab_type": "code",
        "colab": {}
      },
      "source": [
        "from microtc.utils import tweet_iterator\n",
        "D = list(tweet_iterator(tweets))"
      ],
      "execution_count": 0,
      "outputs": []
    },
    {
      "cell_type": "code",
      "metadata": {
        "id": "sfsf694yayto",
        "colab_type": "code",
        "colab": {
          "base_uri": "https://localhost:8080/",
          "height": 71
        },
        "outputId": "41f7f8ed-9464-4ec5-d3ae-ebaf047eea65"
      },
      "source": [
        "D[1]"
      ],
      "execution_count": 28,
      "outputs": [
        {
          "output_type": "execute_result",
          "data": {
            "text/plain": [
              "{'klass': 'P',\n",
              " 'q_voc_ratio': 0.9102564102564102,\n",
              " 'text': '@VaneTearsen  te como con patatas'}"
            ]
          },
          "metadata": {
            "tags": []
          },
          "execution_count": 28
        }
      ]
    },
    {
      "cell_type": "markdown",
      "metadata": {
        "id": "Zm5HgT3OSUEa",
        "colab_type": "text"
      },
      "source": [
        "### Model"
      ]
    },
    {
      "cell_type": "code",
      "metadata": {
        "id": "-0zC2-bya-g3",
        "colab_type": "code",
        "colab": {
          "base_uri": "https://localhost:8080/",
          "height": 53
        },
        "outputId": "b002183b-798e-4cf3-eaeb-4bd4ae3154e6"
      },
      "source": [
        "X = [x['text'] for x in D]\n",
        "y = [x['klass'] for x in D]\n",
        "evo = base.EvoMSA(stacked_method=\"sklearn.naive_bayes.GaussianNB\").fit(X, y)"
      ],
      "execution_count": 29,
      "outputs": [
        {
          "output_type": "stream",
          "text": [
            "100%|██████████| 1/1 [00:02<00:00,  2.70s/it]\n",
            "100%|██████████| 5/5 [00:00<00:00, 11.77it/s]\n"
          ],
          "name": "stderr"
        }
      ]
    },
    {
      "cell_type": "code",
      "metadata": {
        "id": "FKy9rAkqbZz0",
        "colab_type": "code",
        "colab": {
          "base_uri": "https://localhost:8080/",
          "height": 71
        },
        "outputId": "6145674f-1f44-4b4d-9708-d247b9d9a4d5"
      },
      "source": [
        "evo.predict([\"hola mundo\"])"
      ],
      "execution_count": 31,
      "outputs": [
        {
          "output_type": "stream",
          "text": [
            "100%|██████████| 1/1 [00:00<00:00, 376.04it/s]\n",
            "100%|██████████| 1/1 [00:00<00:00, 442.90it/s]\n"
          ],
          "name": "stderr"
        },
        {
          "output_type": "execute_result",
          "data": {
            "text/plain": [
              "array(['P'], dtype='<U4')"
            ]
          },
          "metadata": {
            "tags": []
          },
          "execution_count": 31
        }
      ]
    },
    {
      "cell_type": "markdown",
      "metadata": {
        "id": "TdVuBMCESWMj",
        "colab_type": "text"
      },
      "source": [
        "### Performance"
      ]
    },
    {
      "cell_type": "code",
      "metadata": {
        "id": "CDyF7TlgboOt",
        "colab_type": "code",
        "colab": {}
      },
      "source": [
        "from sklearn import model_selection"
      ],
      "execution_count": 0,
      "outputs": []
    },
    {
      "cell_type": "code",
      "metadata": {
        "id": "6O68vR-nbs4b",
        "colab_type": "code",
        "colab": {}
      },
      "source": [
        "train, test = model_selection.train_test_split(D, test_size=0.2)"
      ],
      "execution_count": 0,
      "outputs": []
    },
    {
      "cell_type": "code",
      "metadata": {
        "id": "UFFxFuCpb17M",
        "colab_type": "code",
        "colab": {
          "base_uri": "https://localhost:8080/",
          "height": 53
        },
        "outputId": "f02e1007-5922-4e14-e4d2-feb4b179808e"
      },
      "source": [
        "evo = base.EvoMSA(stacked_method=\"sklearn.naive_bayes.GaussianNB\").fit(train, [x['klass'] for x in train])"
      ],
      "execution_count": 34,
      "outputs": [
        {
          "output_type": "stream",
          "text": [
            "100%|██████████| 1/1 [00:02<00:00,  2.20s/it]\n",
            "100%|██████████| 5/5 [00:00<00:00, 15.27it/s]\n"
          ],
          "name": "stderr"
        }
      ]
    },
    {
      "cell_type": "code",
      "metadata": {
        "id": "iS9N54TOcCho",
        "colab_type": "code",
        "colab": {}
      },
      "source": [
        "from sklearn import metrics"
      ],
      "execution_count": 0,
      "outputs": []
    },
    {
      "cell_type": "code",
      "metadata": {
        "id": "LANhyTZAcGQz",
        "colab_type": "code",
        "colab": {
          "base_uri": "https://localhost:8080/",
          "height": 71
        },
        "outputId": "49b1522f-6c4c-490f-ea5e-03ad9c400942"
      },
      "source": [
        "metrics.f1_score([x['klass'] for x in test], evo.predict(test), average=\"macro\")"
      ],
      "execution_count": 36,
      "outputs": [
        {
          "output_type": "stream",
          "text": [
            "100%|██████████| 1/1 [00:00<00:00,  2.03it/s]\n",
            "100%|██████████| 1/1 [00:00<00:00, 491.14it/s]\n"
          ],
          "name": "stderr"
        },
        {
          "output_type": "execute_result",
          "data": {
            "text/plain": [
              "0.5153239428945074"
            ]
          },
          "metadata": {
            "tags": []
          },
          "execution_count": 36
        }
      ]
    },
    {
      "cell_type": "markdown",
      "metadata": {
        "id": "bPZ2hXhQR2G0",
        "colab_type": "text"
      },
      "source": [
        "## Model using EvoMSA's pre-trained text models"
      ]
    },
    {
      "cell_type": "code",
      "metadata": {
        "id": "uGxbJ_5qcBzU",
        "colab_type": "code",
        "colab": {}
      },
      "source": [
        "evo = base.EvoMSA(Emo=True, stacked_method=\"sklearn.naive_bayes.GaussianNB\", lang=\"es\").fit(train, [x['klass'] for x in train])"
      ],
      "execution_count": 0,
      "outputs": []
    },
    {
      "cell_type": "code",
      "metadata": {
        "id": "tkscncVhct6f",
        "colab_type": "code",
        "colab": {
          "base_uri": "https://localhost:8080/",
          "height": 71
        },
        "outputId": "016059be-58fe-4628-c9a1-a13d7e5cd374"
      },
      "source": [
        "metrics.f1_score([x['klass'] for x in test], evo.predict(test), average=\"macro\")"
      ],
      "execution_count": 39,
      "outputs": [
        {
          "output_type": "stream",
          "text": [
            "100%|██████████| 2/2 [00:00<00:00,  3.50it/s]\n",
            "100%|██████████| 2/2 [00:00<00:00, 700.98it/s]\n"
          ],
          "name": "stderr"
        },
        {
          "output_type": "execute_result",
          "data": {
            "text/plain": [
              "0.5248983462229129"
            ]
          },
          "metadata": {
            "tags": []
          },
          "execution_count": 39
        }
      ]
    },
    {
      "cell_type": "code",
      "metadata": {
        "id": "_j8ZooXLcxk9",
        "colab_type": "code",
        "colab": {}
      },
      "source": [
        "evo = base.EvoMSA(Aggress=True, Emo=True, stacked_method=\"sklearn.naive_bayes.GaussianNB\", lang=\"es\").fit(train, [x['klass'] for x in train])"
      ],
      "execution_count": 0,
      "outputs": []
    },
    {
      "cell_type": "code",
      "metadata": {
        "id": "SZT7Z8FKc5Vj",
        "colab_type": "code",
        "colab": {
          "base_uri": "https://localhost:8080/",
          "height": 71
        },
        "outputId": "6e82eb78-e976-4814-952f-ad453d022d07"
      },
      "source": [
        "metrics.f1_score([x['klass'] for x in test], evo.predict(test), average=\"macro\")"
      ],
      "execution_count": 41,
      "outputs": [
        {
          "output_type": "stream",
          "text": [
            "100%|██████████| 3/3 [00:00<00:00,  4.54it/s]\n",
            "100%|██████████| 3/3 [00:00<00:00, 730.12it/s]\n"
          ],
          "name": "stderr"
        },
        {
          "output_type": "execute_result",
          "data": {
            "text/plain": [
              "0.5294844540698902"
            ]
          },
          "metadata": {
            "tags": []
          },
          "execution_count": 41
        }
      ]
    },
    {
      "cell_type": "markdown",
      "metadata": {
        "id": "pY7JmEHpSHXK",
        "colab_type": "text"
      },
      "source": [
        "## EvoMSA's pre-trained models by their own"
      ]
    },
    {
      "cell_type": "code",
      "metadata": {
        "id": "cGOQm1nmdBZU",
        "colab_type": "code",
        "colab": {}
      },
      "source": [
        "from EvoMSA.utils import download\n",
        "from microtc.utils import load_model\n",
        "emo = load_model(download(\"emo_En.tm\"))"
      ],
      "execution_count": 0,
      "outputs": []
    },
    {
      "cell_type": "code",
      "metadata": {
        "id": "5Vblq-9ldQCT",
        "colab_type": "code",
        "colab": {
          "base_uri": "https://localhost:8080/",
          "height": 35
        },
        "outputId": "2c9179b8-98be-4042-b599-01d59c5028c6"
      },
      "source": [
        "emo._labels[emo.transform([\"hello world\"])[0].argmax()]"
      ],
      "execution_count": 47,
      "outputs": [
        {
          "output_type": "execute_result",
          "data": {
            "text/plain": [
              "'♡'"
            ]
          },
          "metadata": {
            "tags": []
          },
          "execution_count": 47
        }
      ]
    },
    {
      "cell_type": "code",
      "metadata": {
        "id": "6cugpo3TdQl5",
        "colab_type": "code",
        "colab": {}
      },
      "source": [
        "model = \"semeval2017_En.evomsa\"\n",
        "model = load_model(download(model))"
      ],
      "execution_count": 0,
      "outputs": []
    },
    {
      "cell_type": "code",
      "metadata": {
        "id": "ra4RXPn8ddPi",
        "colab_type": "code",
        "colab": {
          "base_uri": "https://localhost:8080/",
          "height": 71
        },
        "outputId": "fb766cbe-f0b3-4593-e2ff-b5c5156922b4"
      },
      "source": [
        "model.predict([\"hello world\", \"EvoMSA is working and we are almost at the end\"])"
      ],
      "execution_count": 50,
      "outputs": [
        {
          "output_type": "stream",
          "text": [
            "100%|██████████| 2/2 [00:00<00:00, 214.20it/s]\n",
            "100%|██████████| 2/2 [00:00<00:00, 798.08it/s]\n"
          ],
          "name": "stderr"
        },
        {
          "output_type": "execute_result",
          "data": {
            "text/plain": [
              "array(['positive', 'neutral'], dtype='<U8')"
            ]
          },
          "metadata": {
            "tags": []
          },
          "execution_count": 50
        }
      ]
    },
    {
      "cell_type": "code",
      "metadata": {
        "id": "vkHj2qNeeCpU",
        "colab_type": "code",
        "colab": {}
      },
      "source": [
        ""
      ],
      "execution_count": 0,
      "outputs": []
    }
  ]
}